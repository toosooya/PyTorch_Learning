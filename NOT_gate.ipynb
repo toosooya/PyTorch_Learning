{
 "cells": [
  {
   "cell_type": "code",
   "execution_count": null,
   "id": "309e998d",
   "metadata": {},
   "outputs": [],
   "source": [
    "def NOT_gate(x1) :\n",
    "# weights\n",
    "  w1 = -0.6\n",
    "  bias = 0.5\n",
    "\n",
    "  # forward\n",
    "  result = x1*w1 + bias\n",
    "\n",
    "  # activation\n",
    "  if result > 0:\n",
    "    return 1\n",
    "  else:\n",
    "    return 0\n",
    "\n",
    "NOT_gate(0),NOT_gate(1)"
   ]
  }
 ],
 "metadata": {
  "kernelspec": {
   "display_name": "base",
   "language": "python",
   "name": "python3"
  },
  "language_info": {
   "name": "python",
   "version": "3.12.7"
  }
 },
 "nbformat": 4,
 "nbformat_minor": 5
}
