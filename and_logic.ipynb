{
 "cells": [
  {
   "cell_type": "code",
   "execution_count": 4,
   "id": "4ef44e66",
   "metadata": {},
   "outputs": [
    {
     "name": "stdout",
     "output_type": "stream",
     "text": [
      "0 0 0 1\n"
     ]
    }
   ],
   "source": [
    "def AND_gate(x1, x2) :\n",
    "# weights\n",
    "  w1 = 0.5\n",
    "  w2 = 0.5\n",
    "  bias = -0.6\n",
    "\n",
    "  # forward\n",
    "  result = x1*w1 + x2*w2 + bias\n",
    "\n",
    "  # activation\n",
    "  if result > 0:\n",
    "    return 1\n",
    "  else:\n",
    "    return 0\n",
    "\n",
    "print(AND_gate(0,0), AND_gate(0,1), AND_gate(1,0), AND_gate(1,1))"
   ]
  }
 ],
 "metadata": {
  "kernelspec": {
   "display_name": "base",
   "language": "python",
   "name": "python3"
  },
  "language_info": {
   "codemirror_mode": {
    "name": "ipython",
    "version": 3
   },
   "file_extension": ".py",
   "mimetype": "text/x-python",
   "name": "python",
   "nbconvert_exporter": "python",
   "pygments_lexer": "ipython3",
   "version": "3.12.7"
  }
 },
 "nbformat": 4,
 "nbformat_minor": 5
}
