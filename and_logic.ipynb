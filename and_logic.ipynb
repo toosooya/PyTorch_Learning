{
 "cells": [
  {
   "cell_type": "code",
   "execution_count": 5,
   "id": "4ef44e66",
   "metadata": {},
   "outputs": [
    {
     "name": "stdout",
     "output_type": "stream",
     "text": [
      "0 0 0 1\n"
     ]
    }
   ],
   "source": [
    "def AND_gate(x1, x2) :\n",
    "# weights\n",
    "  w1 = 0.5\n",
    "  w2 = 0.5\n",
    "  bias = -0.6\n",
    "\n",
    "  # forward\n",
    "  result = x1*w1 + x2*w2 + bias\n",
    "\n",
    "  # activation\n",
    "  if result > 0:\n",
    "    return 1\n",
    "  else:\n",
    "    return 0\n",
    "\n",
    "print(AND_gate(0,0), AND_gate(0,1), AND_gate(1,0), AND_gate(1,1))"
   ]
  },
  {
   "cell_type": "code",
   "execution_count": null,
   "id": "5da2b3b5",
   "metadata": {},
   "outputs": [
    {
     "name": "stdout",
     "output_type": "stream",
     "text": [
      "0 1 1 1\n"
     ]
    }
   ],
   "source": []
  },
  {
   "cell_type": "code",
   "execution_count": 7,
   "id": "506745a4",
   "metadata": {},
   "outputs": [
    {
     "data": {
      "text/plain": [
       "(1, 0)"
      ]
     },
     "execution_count": 7,
     "metadata": {},
     "output_type": "execute_result"
    }
   ],
   "source": [
    "def NOT_gate(x1) :\n",
    "# weights\n",
    "  w1 = -0.6\n",
    "  bias = 0.5\n",
    "\n",
    "  # forward\n",
    "  result = x1*w1 + bias\n",
    "\n",
    "  # activation\n",
    "  if result > 0:\n",
    "    return 1\n",
    "  else:\n",
    "    return 0\n",
    "\n",
    "NOT_gate(0),NOT_gate(1)"
   ]
  },
  {
   "cell_type": "code",
   "execution_count": null,
   "id": "649132a9",
   "metadata": {},
   "outputs": [],
   "source": []
  }
 ],
 "metadata": {
  "kernelspec": {
   "display_name": "base",
   "language": "python",
   "name": "python3"
  },
  "language_info": {
   "codemirror_mode": {
    "name": "ipython",
    "version": 3
   },
   "file_extension": ".py",
   "mimetype": "text/x-python",
   "name": "python",
   "nbconvert_exporter": "python",
   "pygments_lexer": "ipython3",
   "version": "3.12.7"
  }
 },
 "nbformat": 4,
 "nbformat_minor": 5
}
