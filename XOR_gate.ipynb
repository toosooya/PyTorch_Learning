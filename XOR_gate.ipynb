{
 "cells": [
  {
   "cell_type": "code",
   "execution_count": 2,
   "id": "48de2ef0",
   "metadata": {},
   "outputs": [
    {
     "data": {
      "text/plain": [
       "(1, 1, 1, 0)"
      ]
     },
     "execution_count": 2,
     "metadata": {},
     "output_type": "execute_result"
    }
   ],
   "source": [
    "def NAND_gate(x1,x2) :\n",
    "# weights\n",
    "  w1 = -0.5\n",
    "  w2 = -0.5\n",
    "  b = 0.6\n",
    "\n",
    "  # forward\n",
    "  result = x1*w1 + x2*w2 + b\n",
    "\n",
    "  # activation\n",
    "  if result > 0:\n",
    "    return 1\n",
    "  else:\n",
    "    return 0\n",
    "\n",
    "NAND_gate(0,0),NAND_gate(0,1),NAND_gate(1,0),NAND_gate(1,1)"
   ]
  },
  {
   "cell_type": "code",
   "execution_count": 1,
   "id": "324d4528",
   "metadata": {},
   "outputs": [],
   "source": [
    "def step_function(x):\n",
    "    return 1 if x > 0 else 0\n",
    "\n",
    "def layer1(x0, x1):\n",
    "    # weights\n",
    "    # NAND\n",
    "    w00 = -0.5\n",
    "    w01 = -0.5\n",
    "    b0 = 0.6\n",
    "\n",
    "    # OR\n",
    "    w10 = 0.6\n",
    "    w11 = 0.6\n",
    "    b1 = -0.5\n",
    "\n",
    "    # forward\n",
    "    result0 = x0*w00 + x1*w01 + b0\n",
    "    result1 = x0*w10 + x1*w11 + b1\n",
    "\n",
    "    # activation\n",
    "    result0 = step_function(result0)\n",
    "    result1 = step_function(result1)\n",
    "\n",
    "    return result0, result1"
   ]
  },
  {
   "cell_type": "code",
   "execution_count": 7,
   "id": "81559306",
   "metadata": {},
   "outputs": [
    {
     "data": {
      "text/plain": [
       "(0, 1, 1, 0)"
      ]
     },
     "execution_count": 7,
     "metadata": {},
     "output_type": "execute_result"
    }
   ],
   "source": [
    "def layer2(x0,x1):\n",
    "  #weights\n",
    "  # AND\n",
    "  w0 = 0.5\n",
    "  w1 = 0.5\n",
    "  b = -0.6\n",
    "\n",
    "  # forward\n",
    "  result = x0*w0 + x1*w1 + b\n",
    "\n",
    "  # actovation\n",
    "  result = step_function(result)\n",
    "\n",
    "  return result\n",
    "\n",
    "def XOR_MLP(x0,x1):\n",
    "    x0,x1 = layer1(x0,x1)\n",
    "    y = layer2(x0,x1)\n",
    "    return y\n",
    "\n",
    "XOR_MLP(0, 0),XOR_MLP(0, 1),XOR_MLP(1, 0),XOR_MLP(1, 1)"
   ]
  },
  {
   "cell_type": "code",
   "execution_count": null,
   "id": "4854fb75",
   "metadata": {},
   "outputs": [],
   "source": [
    "  "
   ]
  }
 ],
 "metadata": {
  "kernelspec": {
   "display_name": "base",
   "language": "python",
   "name": "python3"
  },
  "language_info": {
   "codemirror_mode": {
    "name": "ipython",
    "version": 3
   },
   "file_extension": ".py",
   "mimetype": "text/x-python",
   "name": "python",
   "nbconvert_exporter": "python",
   "pygments_lexer": "ipython3",
   "version": "3.12.7"
  }
 },
 "nbformat": 4,
 "nbformat_minor": 5
}
